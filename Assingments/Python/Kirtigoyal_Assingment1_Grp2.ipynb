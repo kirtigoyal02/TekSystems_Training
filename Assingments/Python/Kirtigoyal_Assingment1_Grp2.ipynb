{
 "cells": [
  {
   "cell_type": "markdown",
   "id": "5f1fe116-e7cf-45e1-86a5-473445d9952f",
   "metadata": {},
   "source": [
    "### 1. Using keys and indexing, grab the 'hello' afrom the following dictionary"
   ]
  },
  {
   "cell_type": "code",
   "execution_count": 1,
   "id": "061e2dba-e128-4942-be35-b45c680d013c",
   "metadata": {},
   "outputs": [],
   "source": [
    "d = {'k1':[1,2,{'k2':['this is tricky',{'tough':[1,2,['hello']]}]}]}"
   ]
  },
  {
   "cell_type": "code",
   "execution_count": 2,
   "id": "2ccc2dac",
   "metadata": {},
   "outputs": [
    {
     "data": {
      "text/plain": [
       "['hello']"
      ]
     },
     "execution_count": 2,
     "metadata": {},
     "output_type": "execute_result"
    }
   ],
   "source": [
    "d['k1'][2]['k2'][1]['tough'][2]"
   ]
  },
  {
   "cell_type": "markdown",
   "id": "689c01fb-3911-40be-8e0b-00a8eab4dd18",
   "metadata": {},
   "source": [
    "### 2. Write a Python function that takes a list and returns a new list with unique elements of the first list.\n",
    "**!!!! DO NOT USE list(set())**  \\\n",
    "    Sample List : [1,1,1,1,2,2,3,3,3,3,4,5]   \\\n",
    "    Unique List : [1, 2, 3, 4, 5]"
   ]
  },
  {
   "cell_type": "code",
   "execution_count": 3,
   "id": "0cbe9fb6",
   "metadata": {},
   "outputs": [
    {
     "name": "stdout",
     "output_type": "stream",
     "text": [
      "[1, 2, 3, 4]\n"
     ]
    }
   ],
   "source": [
    "def get_unique(list):\n",
    "    list1=[]\n",
    "    for i in list:\n",
    "        if(i not in list1):\n",
    "            list1.append(i)\n",
    "    return list1\n",
    "print(get_unique([1,2,2,3,2,4]))"
   ]
  },
  {
   "cell_type": "markdown",
   "id": "cb41f026-decb-4b3c-9fb7-b27c2646fb04",
   "metadata": {},
   "source": [
    "### 3. Write a Python function that accepts a string and calculates the number of upper case letters and lower case letters.\n",
    "\n",
    "    Sample String : 'Hello Mr. Roshan, how are you this fine Tuesday?'\n",
    "    Expected Output : \n",
    "    No. of Upper case characters : 4\n",
    "    No. of Lower case Characters : 33"
   ]
  },
  {
   "cell_type": "code",
   "execution_count": 4,
   "id": "6c31768a",
   "metadata": {},
   "outputs": [],
   "source": [
    "import string\n",
    "def find_case(str1):\n",
    "    upper=0\n",
    "    lower =0\n",
    "    for i in str1:\n",
    "        if(i.isupper()):\n",
    "            upper+=1\n",
    "        elif(i.islower()):\n",
    "            lower+=1\n",
    "    return [upper, lower]"
   ]
  },
  {
   "cell_type": "code",
   "execution_count": 5,
   "id": "242c8147",
   "metadata": {},
   "outputs": [
    {
     "name": "stdout",
     "output_type": "stream",
     "text": [
      "enter the stringHello Mr. Roshan, how are you this fine Tuesday?\n",
      "No. of Upper case characters :  4\n",
      "No. of Lower case characters :  33\n"
     ]
    }
   ],
   "source": [
    "s = input(\"enter the string\")\n",
    "cases = find_case(s)\n",
    "print(\"No. of Upper case characters : \",cases[0])\n",
    "print(\"No. of Lower case characters : \",cases[1])"
   ]
  },
  {
   "cell_type": "markdown",
   "id": "8a0e1caf-e446-40e5-9418-348d5a9394d2",
   "metadata": {},
   "source": [
    "### 4.Create & Read a file constitution.txt. Create a dictionary with an entry for each letter in the alphabet. The keys are letters and the values will be the counts of the number of times a letter has viewed. Go through each character in data, skipping characters that aren't letters. For every letter, increment the count stored in letter_counts for that letter. Create a bar chart for the letter frequencies."
   ]
  },
  {
   "cell_type": "code",
   "execution_count": 13,
   "id": "3939af87",
   "metadata": {},
   "outputs": [],
   "source": [
    "charlist = list(string.ascii_letters)\n",
    "d = {}\n",
    "for i in charlist:\n",
    "    d[i] = 0\n"
   ]
  },
  {
   "cell_type": "code",
   "execution_count": 14,
   "id": "c6ea70c1",
   "metadata": {},
   "outputs": [
    {
     "name": "stdout",
     "output_type": "stream",
     "text": [
      "{'a': 53, 'b': 6, 'c': 17, 'd': 13, 'e': 69, 'f': 9, 'g': 18, 'h': 40, 'i': 41, 'j': 0, 'k': 1, 'l': 11, 'm': 9, 'n': 36, 'o': 45, 'p': 22, 'q': 0, 'r': 55, 's': 27, 't': 61, 'u': 8, 'v': 4, 'w': 14, 'x': 1, 'y': 8, 'z': 0, 'A': 1, 'B': 0, 'C': 0, 'D': 0, 'E': 0, 'F': 0, 'G': 1, 'H': 0, 'I': 0, 'J': 0, 'K': 0, 'L': 0, 'M': 0, 'N': 1, 'O': 0, 'P': 0, 'Q': 0, 'R': 0, 'S': 0, 'T': 4, 'U': 0, 'V': 0, 'W': 0, 'X': 0, 'Y': 0, 'Z': 0}\n"
     ]
    }
   ],
   "source": [
    "import string\n",
    "fileobj = open(\"C:/Users/kgoyal/OneDrive - ALLEGIS GROUP/Documents/constitution.txt\",'r')\n",
    "content = list(fileobj.read())\n",
    "for x in content:\n",
    "    if(x in charlist):\n",
    "        d[x] +=1\n",
    "print(d)"
   ]
  },
  {
   "cell_type": "markdown",
   "id": "d9efe72b-87cb-4430-8a82-05e5050f92bc",
   "metadata": {},
   "source": [
    "### 5. For this challenge,\n",
    "\n",
    "Create a bank account class that has two attributes:\n",
    "\n",
    "owner balance and two methods:\n",
    "\n",
    "deposit withdraw As an added requirement, withdrawals may not exceed the available balance.\n",
    "\n",
    "Instantiate your class, make several deposits and withdrawals, and test to make sure the account can't be overdrawn."
   ]
  },
  {
   "cell_type": "code",
   "execution_count": 6,
   "id": "a9362654",
   "metadata": {},
   "outputs": [],
   "source": [
    "class bank_account:\n",
    "    def __init__(self,owner,balance,):\n",
    "        self.owner = owner\n",
    "        self.balance = balance\n",
    "    def deposit(self,dep_amount):\n",
    "        self.balance +=dep_amount\n",
    "    def withdraw(self,withdraw_amount):\n",
    "        if(withdraw_amount<self.balance):\n",
    "            self.balance -=withdraw_amount\n",
    "            print(\"you have withdrawn successfully!!\")\n",
    "        else:\n",
    "            print(\"your balance is not enough\")\n",
    "        "
   ]
  },
  {
   "cell_type": "code",
   "execution_count": 7,
   "id": "aab8de23",
   "metadata": {},
   "outputs": [
    {
     "name": "stdout",
     "output_type": "stream",
     "text": [
      "enter the amount you want to deposit89\n",
      "enter the amount you want to withdraw89\n",
      "you have withdrawn successfully!!\n"
     ]
    }
   ],
   "source": [
    "obj = bank_account('kirti',10000)\n",
    "obj.deposit(int(input(\"enter the amount you want to deposit\")))\n",
    "obj.withdraw(int(input(\"enter the amount you want to withdraw\")))\n"
   ]
  },
  {
   "cell_type": "markdown",
   "id": "9d59550f-c8a5-4149-ad3f-f275a39c8086",
   "metadata": {},
   "source": [
    "### 6. Playing Cards\n",
    "4 suits (Hearts, Diamonds, Spades and Clubs)\n",
    "13 ranks (2 through 10, then the face cards Jack, Queen, King and Ace)\n",
    "\n",
    "    -- Total 52 Cards\n",
    "\n",
    "### The Game\n",
    " Jacks, Queens and Kings all have a rank of 10. Aces have a rank of either 11 or 1 as needed to reach 21 without busting. As a starting point in your program, you may want to assign variables to store a list of suits, ranks, and then use a dictionary to map ranks to values.\n",
    " 1. Create a deck of 52 cards\n",
    " 2. Shuffle the deck.\n",
    " 3. Display the winner if somebody's getting an Ace."
   ]
  },
  {
   "cell_type": "code",
   "execution_count": 9,
   "id": "8ffa3416",
   "metadata": {},
   "outputs": [
    {
     "name": "stdout",
     "output_type": "stream",
     "text": [
      "Loose you got 7-red2\n"
     ]
    }
   ],
   "source": [
    "import random\n",
    "suits = ['jacks-black1','jacks-black2','jacks-red1','jacks-red2',\n",
    "         'Queens-black1','Queens-black2','Queens-red1','Queens-red2',\n",
    "         'Kings-black1','Kings-black2','Kings-red1','Kings-red2',\n",
    "         'Aces-black1','Aces-black2','Aces-red1','Aces-red2',\n",
    "         '2-black1','3-black1','4-black1','5-black1','6-black1','7-black1','8-black1','9-black1','10-black1',\n",
    "         '2-black2','3-black2','4-black2','5-black2','6-black2','7-black2','8-black2','9-black2','10-black2',\n",
    "         '2-red1','3-red1','4-red1','5-red1','6-red1','7-red1','8-red1','9-red1','10-red1',\n",
    "         '2-red2','3-red2','4-red2','5-red2','6-red2','7-red2','8-red2','9-red2','10-red2',]\n",
    "random.shuffle(suits)\n",
    "cand = random.choice(suits)\n",
    "if(cand == 'Aces'):\n",
    "    print('Winner')\n",
    "else:\n",
    "    print('Loose',\"you got\",cand)"
   ]
  },
  {
   "cell_type": "markdown",
   "id": "1d243239-dc35-4280-9e41-d75ea100b58d",
   "metadata": {},
   "source": [
    "### 7. Generate Password: 17 characters , minimum 1 Uppercase, 1 lowercase, 1 digits and 2 minimun special characters"
   ]
  },
  {
   "cell_type": "code",
   "execution_count": null,
   "id": "b20aba87",
   "metadata": {},
   "outputs": [],
   "source": [
    "import random \n",
    "import string\n",
    "up = string.ascii_uppercase\n",
    "low =string.ascii_lowercase\n",
    "dig = string.digits\n",
    "spc = string.punctuation\n",
    "upper =[]\n",
    "lower = []\n",
    "digit = []\n",
    "special_char = []\n",
    "all_char=[]\n",
    "for i in up:\n",
    "    upper.append(i)\n",
    "for i in low:\n",
    "    lower.append(i)\n",
    "for i in dig:\n",
    "    digit.append(i)\n",
    "for i in spc:\n",
    "    special_char.append(i)\n",
    "all_char = upper + lower + digit+special_char\n",
    "password = random.choices(upper,k=1)+random.choices(lower,k=1)+random.choices(digit,k=1)+random.choices(special_char,k=2)+random.choices(all_char,k=12)\n",
    "pass1 = \"\"\n",
    "random.shuffle(password)\n",
    "for i in password:\n",
    "    pass1+=i\n",
    "print(\"a strong password for you - \",pass1)\n"
   ]
  },
  {
   "cell_type": "markdown",
   "id": "5090a46a-a0f2-45e5-b058-f200ab845335",
   "metadata": {},
   "source": [
    "### 8. you are given a list which is [3, 5, 7, 3, 5, 7, 3, 545, 34, 235, 234, 6]. You have to sort it such that the seventh element is greatest of all, second element is greater than last element and second last element is not greater than sum of 8 and sixth element"
   ]
  },
  {
   "cell_type": "code",
   "execution_count": null,
   "id": "5a6866b5-fbff-4206-be46-a51961090c8b",
   "metadata": {},
   "outputs": [],
   "source": [
    "list01 = [3, 5, 7, 3, 5, 7, 3, 545, 34, 235, 234, 6]\n",
    "a= max(list01)\n",
    "list01[list01.index(max(list01))] = list01[6]\n",
    "list01[6] = a\n",
    "if list01[1] > list01[-2]:\n",
    "    pass\n",
    "else:\n",
    "    temp = list01[1] \n",
    "    list01[1] = list01[-2]\n",
    "    list01[-2] = temp\n",
    "print(\"all conditions followed, for this list - \",list01)\n",
    "    "
   ]
  },
  {
   "cell_type": "code",
   "execution_count": null,
   "id": "d9e5dbbe",
   "metadata": {},
   "outputs": [],
   "source": []
  }
 ],
 "metadata": {
  "kernelspec": {
   "display_name": "Python 3 (ipykernel)",
   "language": "python",
   "name": "python3"
  },
  "language_info": {
   "codemirror_mode": {
    "name": "ipython",
    "version": 3
   },
   "file_extension": ".py",
   "mimetype": "text/x-python",
   "name": "python",
   "nbconvert_exporter": "python",
   "pygments_lexer": "ipython3",
   "version": "3.9.13"
  }
 },
 "nbformat": 4,
 "nbformat_minor": 5
}
